{
 "cells": [
  {
   "cell_type": "code",
   "execution_count": 1,
   "id": "76eea0e2-d276-4e4a-a20b-ad8743296e33",
   "metadata": {},
   "outputs": [
    {
     "name": "stdout",
     "output_type": "stream",
     "text": [
      "1\n",
      "2\n",
      "3\n",
      "4\n"
     ]
    }
   ],
   "source": [
    "#For loops\n",
    "my_iterable=[1,2,3,4]\n",
    "for item in my_iterable: #item is a place holder for the iten in the list\n",
    "    print(item)"
   ]
  },
  {
   "cell_type": "code",
   "execution_count": 4,
   "id": "b7404208-748e-4cfd-bf6d-89e5fa155c32",
   "metadata": {},
   "outputs": [
    {
     "name": "stdout",
     "output_type": "stream",
     "text": [
      "odd number\n",
      "even number: 2\n",
      "odd number\n",
      "even number: 4\n",
      "odd number\n",
      "even number: 6\n",
      "odd number\n",
      "even number: 8\n",
      "odd number\n",
      "even number: 10\n"
     ]
    }
   ],
   "source": [
    "mylist=[1,2,3,4,5,6,7,8,9,10]\n",
    "for num in mylist:\n",
    "    #check for even \n",
    "    if num %2==0:\n",
    "        print(f'even number: {num}')\n",
    "    else:\n",
    "        print('odd number')\n",
    "    \n",
    "        "
   ]
  },
  {
   "cell_type": "code",
   "execution_count": 8,
   "id": "34c1f92b-d84a-4282-8d2b-9d2c96bca0dc",
   "metadata": {},
   "outputs": [
    {
     "name": "stdout",
     "output_type": "stream",
     "text": [
      "55\n"
     ]
    }
   ],
   "source": [
    "list_sum= 0\n",
    "for num in mylist:\n",
    "    list_sum +=num\n",
    "print(list_sum)"
   ]
  },
  {
   "cell_type": "code",
   "execution_count": 10,
   "id": "95c4f320-2a05-474f-b415-da47c76bf79c",
   "metadata": {},
   "outputs": [
    {
     "name": "stdout",
     "output_type": "stream",
     "text": [
      "i\n",
      " \n",
      "a\n",
      "m\n",
      " \n",
      "j\n",
      "a\n",
      "m\n",
      "e\n",
      "s\n"
     ]
    }
   ],
   "source": [
    "mystring=\"i am james\"\n",
    "for letter in mystring:\n",
    "    print(letter)"
   ]
  },
  {
   "cell_type": "code",
   "execution_count": null,
   "id": "a7d17845-92d7-462b-9e0e-1d9e88275ba7",
   "metadata": {},
   "outputs": [],
   "source": []
  },
  {
   "cell_type": "code",
   "execution_count": 14,
   "id": "1c6c8a84-7afd-4acf-87f5-1b7537d9832f",
   "metadata": {},
   "outputs": [
    {
     "name": "stdout",
     "output_type": "stream",
     "text": [
      "2\n",
      "1\n",
      "4\n",
      "3\n",
      "6\n",
      "5\n"
     ]
    },
    {
     "ename": "ValueError",
     "evalue": "too many values to unpack (expected 2)",
     "output_type": "error",
     "traceback": [
      "\u001b[0;31m---------------------------------------------------------------------------\u001b[0m",
      "\u001b[0;31mValueError\u001b[0m                                Traceback (most recent call last)",
      "Cell \u001b[0;32mIn[14], line 2\u001b[0m\n\u001b[1;32m      1\u001b[0m myList\u001b[38;5;241m=\u001b[39m[(\u001b[38;5;241m1\u001b[39m,\u001b[38;5;241m2\u001b[39m),(\u001b[38;5;241m3\u001b[39m,\u001b[38;5;241m4\u001b[39m),(\u001b[38;5;241m5\u001b[39m,\u001b[38;5;241m6\u001b[39m),(\u001b[38;5;241m8\u001b[39m,\u001b[38;5;241m9\u001b[39m,\u001b[38;5;241m10\u001b[39m)]\n\u001b[0;32m----> 2\u001b[0m \u001b[38;5;28;01mfor\u001b[39;00m a,b \u001b[38;5;129;01min\u001b[39;00m myList:\n\u001b[1;32m      3\u001b[0m     \u001b[38;5;28mprint\u001b[39m(b)\n\u001b[1;32m      4\u001b[0m     \u001b[38;5;28mprint\u001b[39m(a) \u001b[38;5;66;03m#will jnot print 10\u001b[39;00m\n",
      "\u001b[0;31mValueError\u001b[0m: too many values to unpack (expected 2)"
     ]
    }
   ],
   "source": [
    "myList=[(1,2),(3,4),(5,6),(8,9,10)]\n",
    "for a,b in myList:\n",
    "    print(b)\n",
    "    print(a) #will not print 10 throw an erro"
   ]
  },
  {
   "cell_type": "code",
   "execution_count": 20,
   "id": "173a256b-c53f-4037-9cdf-dff3198853a7",
   "metadata": {},
   "outputs": [
    {
     "name": "stdout",
     "output_type": "stream",
     "text": [
      "1\n",
      "2\n",
      "3\n"
     ]
    }
   ],
   "source": [
    "d={'k1':1, \"k2\":2, \"k3\":3}\n",
    "\n",
    "for value in d.values():\n",
    "    print(value)\n",
    "    "
   ]
  },
  {
   "cell_type": "code",
   "execution_count": null,
   "id": "70d71465-1d1f-4498-b332-fa511adab59b",
   "metadata": {},
   "outputs": [],
   "source": []
  }
 ],
 "metadata": {
  "kernelspec": {
   "display_name": "Python 3 (ipykernel)",
   "language": "python",
   "name": "python3"
  },
  "language_info": {
   "codemirror_mode": {
    "name": "ipython",
    "version": 3
   },
   "file_extension": ".py",
   "mimetype": "text/x-python",
   "name": "python",
   "nbconvert_exporter": "python",
   "pygments_lexer": "ipython3",
   "version": "3.12.1"
  }
 },
 "nbformat": 4,
 "nbformat_minor": 5
}
