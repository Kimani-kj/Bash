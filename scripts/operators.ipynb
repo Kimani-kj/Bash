{
 "cells": [
  {
   "cell_type": "code",
   "execution_count": 5,
   "id": "8c459422-5c1b-47bb-a257-e48fb2f99e23",
   "metadata": {},
   "outputs": [
    {
     "name": "stdout",
     "output_type": "stream",
     "text": [
      "0\n",
      "2\n",
      "4\n",
      "6\n",
      "8\n",
      "10\n"
     ]
    }
   ],
   "source": [
    "#range function in list\n",
    "for num in range(0,11,2):\n",
    "    print(num)# this generate instead of saving to memory"
   ]
  },
  {
   "cell_type": "code",
   "execution_count": 10,
   "id": "7ba3ee26-9ac3-4543-be41-7e782aa020e0",
   "metadata": {},
   "outputs": [
    {
     "name": "stdout",
     "output_type": "stream",
     "text": [
      "At index 0 the letter is a\n",
      "At index 1 the letter is b\n",
      "At index 2 the letter is c\n",
      "At index 3 the letter is d\n",
      "At index 4 the letter is e\n"
     ]
    }
   ],
   "source": [
    "#enumarate\n",
    "index_count=0\n",
    "for letter in 'abcde':\n",
    "    print('At index {} the letter is {}'.format(index_count,letter))\n",
    "    index_count +=1"
   ]
  },
  {
   "cell_type": "code",
   "execution_count": 13,
   "id": "24f67231-96e0-4180-80db-b6b434a9b401",
   "metadata": {},
   "outputs": [
    {
     "name": "stdout",
     "output_type": "stream",
     "text": [
      "a\n",
      "b\n",
      "c\n",
      "d\n",
      "e\n"
     ]
    }
   ],
   "source": [
    "index_count=0\n",
    "word='abcde'\n",
    "for letter in word:\n",
    "    print(word[index_count])\n",
    "    index_count +=1\n",
    "          "
   ]
  },
  {
   "cell_type": "code",
   "execution_count": 14,
   "id": "37c6de49-5d43-436a-a199-3922164a1c07",
   "metadata": {},
   "outputs": [
    {
     "name": "stdout",
     "output_type": "stream",
     "text": [
      "(0, 'a')\n",
      "(1, 'b')\n",
      "(2, 'c')\n",
      "(3, 'd')\n",
      "(4, 'e')\n"
     ]
    }
   ],
   "source": [
    "#instead you can use enumerate\n",
    "word ='abcde'\n",
    "for iten in enumerate(word): #it returns a tuple of item and index\n",
    "    print(iten)"
   ]
  },
  {
   "cell_type": "code",
   "execution_count": 19,
   "id": "1297e175-d94f-404c-8236-5588d948fa31",
   "metadata": {},
   "outputs": [
    {
     "name": "stdout",
     "output_type": "stream",
     "text": [
      "1 100\n",
      "1 a 100\n",
      "2 200\n",
      "2 b 200\n",
      "3 400\n",
      "3 c 400\n"
     ]
    }
   ],
   "source": [
    "#zip function\n",
    "myList=[1,2,3]\n",
    "mylist=['a','b','c']\n",
    "mylist1=[100,200,400,500] #will ignore 500 since it doesnt have a corresponding index in other lists\n",
    "\n",
    "for a,b,c in zip(myList,mylist,mylist1):\n",
    "    print(a,c)\n",
    "    print (a,b,c)#tuple unpacking"
   ]
  },
  {
   "cell_type": "code",
   "execution_count": 21,
   "id": "3a636a1b-cd6f-4df6-9d61-6789b8ee8a92",
   "metadata": {},
   "outputs": [
    {
     "data": {
      "text/plain": [
       "True"
      ]
     },
     "execution_count": 21,
     "metadata": {},
     "output_type": "execute_result"
    }
   ],
   "source": [
    "#the IN used to check if something is something\n",
    "\"x\" in ['a','x','y']"
   ]
  },
  {
   "cell_type": "code",
   "execution_count": 24,
   "id": "f786f601-1315-4a95-b6f7-6cae338dc767",
   "metadata": {},
   "outputs": [
    {
     "name": "stdout",
     "output_type": "stream",
     "text": [
      "3\n"
     ]
    },
    {
     "data": {
      "text/plain": [
       "983"
      ]
     },
     "execution_count": 24,
     "metadata": {},
     "output_type": "execute_result"
    }
   ],
   "source": [
    "#min and max function\n",
    "mylist=[10,3,45,23,67,45,983,4]\n",
    "print(min(mylist))\n",
    "max(mylist)"
   ]
  },
  {
   "cell_type": "code",
   "execution_count": 27,
   "id": "8503c2c5-a153-4bb2-9043-7c74aa45caef",
   "metadata": {},
   "outputs": [
    {
     "name": "stdout",
     "output_type": "stream",
     "text": [
      "[1, 2, 3, 4, 5, 6, 7, 8, 9, 10]\n"
     ]
    }
   ],
   "source": [
    "from random import shuffle\n",
    "mylist=[1,2,3,4,5,6,7,8,9,10]\n",
    "print(mylist)\n"
   ]
  },
  {
   "cell_type": "code",
   "execution_count": 33,
   "id": "d4daad41-e16e-4adb-bf05-e1dc3fad1d30",
   "metadata": {},
   "outputs": [],
   "source": [
    "x=shuffle(mylist)"
   ]
  },
  {
   "cell_type": "code",
   "execution_count": 36,
   "id": "2c28306f-4d58-492b-bf68-dc801d66d67e",
   "metadata": {},
   "outputs": [],
   "source": [
    "#importing randint\n",
    "from random import randint"
   ]
  },
  {
   "cell_type": "code",
   "execution_count": 41,
   "id": "bdfc1190-d9d3-40ae-9922-e95a2aaff6e8",
   "metadata": {},
   "outputs": [
    {
     "name": "stdout",
     "output_type": "stream",
     "text": [
      "77\n"
     ]
    }
   ],
   "source": [
    "x=randint(0,100)\n",
    "print(x)"
   ]
  },
  {
   "cell_type": "code",
   "execution_count": 44,
   "id": "1a157995-88a0-461f-bd29-babf013d142b",
   "metadata": {},
   "outputs": [
    {
     "name": "stdin",
     "output_type": "stream",
     "text": [
      "what is your favoroti number 11\n"
     ]
    }
   ],
   "source": [
    "#input funtion '''it always accept parsed as a string\n",
    "result=int(input('what is your favoroti number'))"
   ]
  },
  {
   "cell_type": "code",
   "execution_count": 45,
   "id": "862632a7-2b61-4307-9251-8512d4e32387",
   "metadata": {},
   "outputs": [
    {
     "data": {
      "text/plain": [
       "11"
      ]
     },
     "execution_count": 45,
     "metadata": {},
     "output_type": "execute_result"
    }
   ],
   "source": [
    "result"
   ]
  },
  {
   "cell_type": "code",
   "execution_count": null,
   "id": "ceea99d4-b9e8-434c-8bfc-0a97b2addd4f",
   "metadata": {},
   "outputs": [],
   "source": []
  }
 ],
 "metadata": {
  "kernelspec": {
   "display_name": "Python 3 (ipykernel)",
   "language": "python",
   "name": "python3"
  },
  "language_info": {
   "codemirror_mode": {
    "name": "ipython",
    "version": 3
   },
   "file_extension": ".py",
   "mimetype": "text/x-python",
   "name": "python",
   "nbconvert_exporter": "python",
   "pygments_lexer": "ipython3",
   "version": "3.12.1"
  }
 },
 "nbformat": 4,
 "nbformat_minor": 5
}
