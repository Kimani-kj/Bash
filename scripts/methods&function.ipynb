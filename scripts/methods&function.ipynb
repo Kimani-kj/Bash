{
 "cells": [
  {
   "cell_type": "code",
   "execution_count": 2,
   "id": "93d05a38-d96b-4f9a-864a-c6df9bfba480",
   "metadata": {},
   "outputs": [
    {
     "data": {
      "text/plain": [
       "'methods are functoion built into objects'"
      ]
     },
     "execution_count": 2,
     "metadata": {},
     "output_type": "execute_result"
    }
   ],
   "source": [
    "#Methods and Functions\n",
    "\n",
    "\"\"\"methods are function built into objects\"\"\"\n",
    "#methods you get a list  by calling the object then dot u get a list\n"
   ]
  },
  {
   "cell_type": "code",
   "execution_count": 3,
   "id": "79e122c9-4a44-47e3-954a-9b76eb43f99e",
   "metadata": {},
   "outputs": [],
   "source": [
    "mylist=[1.2,3,4,]\n"
   ]
  },
  {
   "cell_type": "code",
   "execution_count": 25,
   "id": "f9085534-a1fa-441e-a23b-6d33f7d2d098",
   "metadata": {},
   "outputs": [
    {
     "data": {
      "text/plain": [
       "[2, 1.2, 2, 3, 4]"
      ]
     },
     "execution_count": 25,
     "metadata": {},
     "output_type": "execute_result"
    }
   ],
   "source": [
    "mylist.reverse() #.then tab to display all the methods associated select the method then shift tab\n",
    "mylist"
   ]
  },
  {
   "cell_type": "code",
   "execution_count": 45,
   "id": "3eaecd97-160e-4979-881e-bddf2b652602",
   "metadata": {},
   "outputs": [],
   "source": [
    "#FUNCTION in Python\n",
    "'''syntax def-keyword correct identation and proper structure'''\n",
    "def name_of_function(name=\"default\"): \n",
    "    \"\"\" this a docstring \n",
    "    snake casing(use under_score) in functions naming and class call use camel casing\n",
    "    \"\"\"\n",
    "    print(\"hello \" + name)"
   ]
  },
  {
   "cell_type": "code",
   "execution_count": 49,
   "id": "c210cbd7-9d93-4bd6-9a19-edf81621ec60",
   "metadata": {},
   "outputs": [
    {
     "name": "stdout",
     "output_type": "stream",
     "text": [
      "hello james\n"
     ]
    }
   ],
   "source": [
    "name_of_function(\"james\")"
   ]
  },
  {
   "cell_type": "code",
   "execution_count": 52,
   "id": "9a256dd5-ca67-42a1-aa33-fbefe1ec36f3",
   "metadata": {},
   "outputs": [],
   "source": [
    "#returnn\n",
    "def print_result(a,b):\n",
    "    print(a+b)\n",
    "\n",
    "def return_result(a,b):\n",
    "    return a + b"
   ]
  },
  {
   "cell_type": "code",
   "execution_count": 53,
   "id": "9e62e15b-837c-4e62-a2f3-79cce26bbbdc",
   "metadata": {},
   "outputs": [
    {
     "name": "stdout",
     "output_type": "stream",
     "text": [
      "5\n"
     ]
    },
    {
     "data": {
      "text/plain": [
       "5"
      ]
     },
     "execution_count": 53,
     "metadata": {},
     "output_type": "execute_result"
    }
   ],
   "source": [
    "print_result(1,4)\n",
    "return_result(1,4)"
   ]
  },
  {
   "cell_type": "code",
   "execution_count": 65,
   "id": "0b54caa6-1343-47da-9f6a-6a0d08405837",
   "metadata": {},
   "outputs": [
    {
     "data": {
      "text/plain": [
       "9"
      ]
     },
     "execution_count": 65,
     "metadata": {},
     "output_type": "execute_result"
    }
   ],
   "source": [
    "result=return_result(4,5)\n",
    "result"
   ]
  },
  {
   "cell_type": "code",
   "execution_count": 62,
   "id": "ea56bf86-a596-4862-b771-e06ca4003556",
   "metadata": {},
   "outputs": [
    {
     "data": {
      "text/plain": [
       "int"
      ]
     },
     "execution_count": 62,
     "metadata": {},
     "output_type": "execute_result"
    }
   ],
   "source": [
    "type(result)"
   ]
  },
  {
   "cell_type": "code",
   "execution_count": 59,
   "id": "ba41fddf-cd7f-42fa-a0dc-5ab372375d15",
   "metadata": {},
   "outputs": [
    {
     "name": "stdout",
     "output_type": "stream",
     "text": [
      "9\n"
     ]
    }
   ],
   "source": [
    "result1=print_result(4,5) # you can't save a result of a function with print  "
   ]
  },
  {
   "cell_type": "code",
   "execution_count": 61,
   "id": "51c47a85-b45e-4bd4-80cb-7e57a14b9dda",
   "metadata": {},
   "outputs": [
    {
     "data": {
      "text/plain": [
       "NoneType"
      ]
     },
     "execution_count": 61,
     "metadata": {},
     "output_type": "execute_result"
    }
   ],
   "source": [
    "type(result1)"
   ]
  },
  {
   "cell_type": "code",
   "execution_count": 66,
   "id": "84b8ce2d-041b-43e2-b861-389e20a6196a",
   "metadata": {},
   "outputs": [],
   "source": [
    "def even_check(number):\n",
    "    return number % 2==0"
   ]
  },
  {
   "cell_type": "code",
   "execution_count": 67,
   "id": "85ceb849-959d-4135-9eab-5dfb5c6261c9",
   "metadata": {},
   "outputs": [
    {
     "data": {
      "text/plain": [
       "True"
      ]
     },
     "execution_count": 67,
     "metadata": {},
     "output_type": "execute_result"
    }
   ],
   "source": [
    "even_check(2)"
   ]
  },
  {
   "cell_type": "code",
   "execution_count": 68,
   "id": "bf15cd3f-340f-4e6b-8d11-5790efcd2631",
   "metadata": {},
   "outputs": [
    {
     "data": {
      "text/plain": [
       "False"
      ]
     },
     "execution_count": 68,
     "metadata": {},
     "output_type": "execute_result"
    }
   ],
   "source": [
    "even_check(13)"
   ]
  },
  {
   "cell_type": "code",
   "execution_count": 77,
   "id": "a9358fbd-1be2-48a7-88ca-35320f10cbcf",
   "metadata": {},
   "outputs": [],
   "source": [
    "def check_num_list(num_list):\n",
    "    for num in num_list:\n",
    "        if num %2 ==0:\n",
    "            return True\n",
    "        else:\n",
    "            return False #this is wrong identatio since once the 1st number is not even the loop breaks and doesnt check the rest "
   ]
  },
  {
   "cell_type": "code",
   "execution_count": 79,
   "id": "a7429327-4695-48eb-b5da-65e27cb9b7dc",
   "metadata": {},
   "outputs": [
    {
     "data": {
      "text/plain": [
       "False"
      ]
     },
     "execution_count": 79,
     "metadata": {},
     "output_type": "execute_result"
    }
   ],
   "source": [
    "check_num_list([1,2,3]) # but there is an even number 2"
   ]
  },
  {
   "cell_type": "code",
   "execution_count": 81,
   "id": "e9735767-ecb6-4740-b113-8924b25b6a73",
   "metadata": {},
   "outputs": [],
   "source": [
    "def check_num_list1(num_list):\n",
    "    for num in num_list:\n",
    "        if num %2 ==0:\n",
    "            return True\n",
    "        else:\n",
    "            pass\n",
    "            \n",
    "    return False "
   ]
  },
  {
   "cell_type": "code",
   "execution_count": 82,
   "id": "b5ed769a-f9fe-457d-bc35-9ca2529feae8",
   "metadata": {},
   "outputs": [
    {
     "data": {
      "text/plain": [
       "True"
      ]
     },
     "execution_count": 82,
     "metadata": {},
     "output_type": "execute_result"
    }
   ],
   "source": [
    "check_num_list1([1,2,3])"
   ]
  },
  {
   "cell_type": "code",
   "execution_count": null,
   "id": "08d5f108-fcfc-4075-acd6-dfbae931c71f",
   "metadata": {},
   "outputs": [],
   "source": []
  },
  {
   "cell_type": "code",
   "execution_count": 83,
   "id": "6633279a-29c7-4b2a-b095-842f235276d1",
   "metadata": {},
   "outputs": [],
   "source": [
    "def check_num_list(num_list):\n",
    "    #return all the even number in a list\n",
    "    even_numbers=[]\n",
    "    for num in num_list:\n",
    "        if num %2 ==0:\n",
    "            even_numbers.append(num)\n",
    "        else:\n",
    "            pass\n",
    "    return even_numbers"
   ]
  },
  {
   "cell_type": "code",
   "execution_count": 84,
   "id": "fc21b219-4e76-43a4-b58c-31c4288ec4ae",
   "metadata": {},
   "outputs": [
    {
     "data": {
      "text/plain": [
       "[2, 4, 6, 8]"
      ]
     },
     "execution_count": 84,
     "metadata": {},
     "output_type": "execute_result"
    }
   ],
   "source": [
    "check_num_list([2,3,4,5,6,7,8])"
   ]
  },
  {
   "cell_type": "code",
   "execution_count": 86,
   "id": "2712c435-d50d-4ff8-9540-c31aaa2a0e2f",
   "metadata": {},
   "outputs": [
    {
     "data": {
      "text/plain": [
       "[]"
      ]
     },
     "execution_count": 86,
     "metadata": {},
     "output_type": "execute_result"
    }
   ],
   "source": [
    "check_num_list([1,3,5,7,9])"
   ]
  },
  {
   "cell_type": "code",
   "execution_count": 88,
   "id": "523f7282-38d6-4efe-8f5e-55324e80cc92",
   "metadata": {},
   "outputs": [
    {
     "name": "stdout",
     "output_type": "stream",
     "text": [
      "('apple', 300)\n",
      "('orange', 200)\n",
      "('banan', 100)\n"
     ]
    }
   ],
   "source": [
    "#tuple unpacking with functions\n",
    "mylist=[(\"apple\",300),('orange',200),('banan',100)]\n",
    "for item in mylist:\n",
    "    print(item)"
   ]
  },
  {
   "cell_type": "code",
   "execution_count": 106,
   "id": "855a2133-4c6a-4c14-a99e-851a5fa6b4ec",
   "metadata": {},
   "outputs": [
    {
     "name": "stdout",
     "output_type": "stream",
     "text": [
      "apple\n",
      " \n",
      "300\n",
      "\n",
      "orange\n",
      " \n",
      "200\n",
      "\n",
      "banan\n",
      " \n",
      "100\n",
      "\n"
     ]
    }
   ],
   "source": [
    "#tuple unpacking\n",
    "for comod,price in mylist:\n",
    "    print(comod +'\\n ')\n",
    "    \n",
    "    print(str(price) + \"\\n\")"
   ]
  },
  {
   "cell_type": "code",
   "execution_count": 117,
   "id": "2cae7e3c-c7da-4253-a589-0aa840605e8c",
   "metadata": {},
   "outputs": [],
   "source": [
    "work_hours=[('abby',100),(\"john\",250),(\"billy\",110),('casie',200),]"
   ]
  },
  {
   "cell_type": "code",
   "execution_count": 108,
   "id": "f8836540-0fdc-44c6-987f-a23864b8516c",
   "metadata": {},
   "outputs": [],
   "source": [
    "def employee_check(work_hours):\n",
    "    current_max=0\n",
    "    employee_of_month=''\n",
    "\n",
    "    for employee,hours in work_hours:\n",
    "        if hours >current_max:\n",
    "            current_max=hours\n",
    "            employee_of_month= employee\n",
    "        else:\n",
    "            pass\n",
    "    #retun \n",
    "    return (employee_of_month,current_max)"
   ]
  },
  {
   "cell_type": "code",
   "execution_count": 118,
   "id": "f59132b3-9402-4ca0-8b4d-9742d6565859",
   "metadata": {},
   "outputs": [],
   "source": [
    "result=employee_check(work_hours)"
   ]
  },
  {
   "cell_type": "code",
   "execution_count": 119,
   "id": "b3ad0d25-4183-4208-93a2-8899fc710b78",
   "metadata": {},
   "outputs": [
    {
     "data": {
      "text/plain": [
       "('john', 250)"
      ]
     },
     "execution_count": 119,
     "metadata": {},
     "output_type": "execute_result"
    }
   ],
   "source": [
    "result"
   ]
  },
  {
   "cell_type": "code",
   "execution_count": 120,
   "id": "2aa305ec-e007-456c-a1c4-6d918bed0832",
   "metadata": {},
   "outputs": [],
   "source": [
    "name,hours=employee_check(work_hours) #unpacking with function calls"
   ]
  },
  {
   "cell_type": "code",
   "execution_count": 121,
   "id": "7a2def42-f945-46e5-9b72-1ec40d59c499",
   "metadata": {},
   "outputs": [
    {
     "data": {
      "text/plain": [
       "'john'"
      ]
     },
     "execution_count": 121,
     "metadata": {},
     "output_type": "execute_result"
    }
   ],
   "source": [
    "name"
   ]
  },
  {
   "cell_type": "code",
   "execution_count": 122,
   "id": "a9047acb-322c-4e84-a6ba-b2126b02c766",
   "metadata": {},
   "outputs": [
    {
     "data": {
      "text/plain": [
       "250"
      ]
     },
     "execution_count": 122,
     "metadata": {},
     "output_type": "execute_result"
    }
   ],
   "source": [
    "hours"
   ]
  },
  {
   "cell_type": "code",
   "execution_count": 123,
   "id": "90522520-6184-47fb-b009-507b7fa8939e",
   "metadata": {},
   "outputs": [
    {
     "ename": "NameError",
     "evalue": "name 'random' is not defined",
     "output_type": "error",
     "traceback": [
      "\u001b[0;31m---------------------------------------------------------------------------\u001b[0m",
      "\u001b[0;31mNameError\u001b[0m                                 Traceback (most recent call last)",
      "Cell \u001b[0;32mIn[123], line 2\u001b[0m\n\u001b[1;32m      1\u001b[0m \u001b[38;5;66;03m#interaction between Functions   \u001b[39;00m\n\u001b[0;32m----> 2\u001b[0m \u001b[43mrandom\u001b[49m\n",
      "\u001b[0;31mNameError\u001b[0m: name 'random' is not defined"
     ]
    }
   ],
   "source": [
    "#interaction between Functions   \n",
    "random"
   ]
  },
  {
   "cell_type": "code",
   "execution_count": 124,
   "id": "4c963f83-7c03-40f3-ab8e-60cb4d7af62a",
   "metadata": {},
   "outputs": [],
   "source": [
    "from random import shuffle"
   ]
  },
  {
   "cell_type": "code",
   "execution_count": 125,
   "id": "863e462a-af38-4462-8eab-dcc0c337e336",
   "metadata": {},
   "outputs": [],
   "source": [
    "mylist=[1,2,3,4,5,6,7,8,9]"
   ]
  },
  {
   "cell_type": "code",
   "execution_count": 136,
   "id": "4daea088-0b37-423f-b850-865ba55ec715",
   "metadata": {},
   "outputs": [
    {
     "data": {
      "text/plain": [
       "[3, 5, 4, 7, 2, 1, 6, 9, 8]"
      ]
     },
     "execution_count": 136,
     "metadata": {},
     "output_type": "execute_result"
    }
   ],
   "source": [
    "shuffle(mylist)\n",
    "mylist\n"
   ]
  },
  {
   "cell_type": "code",
   "execution_count": null,
   "id": "a9db2537-d568-4654-8e25-dfe4581a211a",
   "metadata": {},
   "outputs": [],
   "source": []
  },
  {
   "cell_type": "code",
   "execution_count": null,
   "id": "aa112675-b5bf-4fb0-aa63-dbb247a482be",
   "metadata": {},
   "outputs": [],
   "source": []
  }
 ],
 "metadata": {
  "kernelspec": {
   "display_name": "Python 3 (ipykernel)",
   "language": "python",
   "name": "python3"
  },
  "language_info": {
   "codemirror_mode": {
    "name": "ipython",
    "version": 3
   },
   "file_extension": ".py",
   "mimetype": "text/x-python",
   "name": "python",
   "nbconvert_exporter": "python",
   "pygments_lexer": "ipython3",
   "version": "3.12.1"
  }
 },
 "nbformat": 4,
 "nbformat_minor": 5
}
