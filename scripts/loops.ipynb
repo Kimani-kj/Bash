{
 "cells": [
  {
   "cell_type": "code",
   "execution_count": null,
   "id": "de53b710-3515-4307-87a4-e2f3073d40d6",
   "metadata": {},
   "outputs": [],
   "source": [
    "#while loop\n",
    "\"\"\"while loop will keep executing a block \n",
    "of code as long as a condition is true\"\"\""
   ]
  },
  {
   "cell_type": "code",
   "execution_count": 5,
   "id": "b90f0e43-05c1-4a9e-833f-39967a17623e",
   "metadata": {},
   "outputs": [
    {
     "ename": "IndentationError",
     "evalue": "unexpected indent (977579598.py, line 3)",
     "output_type": "error",
     "traceback": [
      "\u001b[0;36m  Cell \u001b[0;32mIn[5], line 3\u001b[0;36m\u001b[0m\n\u001b[0;31m    do something\u001b[0m\n\u001b[0m    ^\u001b[0m\n\u001b[0;31mIndentationError\u001b[0m\u001b[0;31m:\u001b[0m unexpected indent\n"
     ]
    }
   ],
   "source": [
    "#syntax\n",
    "#\"\"\" while some_boolean_conition:\n",
    "        do something\n",
    "#else:\"\"\"\n"
   ]
  },
  {
   "cell_type": "code",
   "execution_count": 32,
   "id": "01e1e9f4-d193-4a85-947a-61fb32af0bfd",
   "metadata": {},
   "outputs": [
    {
     "name": "stdout",
     "output_type": "stream",
     "text": [
      "all done since x is more than expected\n"
     ]
    }
   ],
   "source": [
    "#a simple while loop\n",
    "x= 6\n",
    "\n",
    "while x <=5:\n",
    "    print(f\"the value of x is {x}\")\n",
    "    x +=1\n",
    "else:\n",
    "    print(\"all done since x is more than expected\")"
   ]
  },
  {
   "cell_type": "code",
   "execution_count": 26,
   "id": "d8b17ebd-98e7-41e0-9cbc-4ca780bb2f12",
   "metadata": {},
   "outputs": [
    {
     "name": "stdout",
     "output_type": "stream",
     "text": [
      "the value of w is 2\n",
      "the value of  y is 2\n",
      "the value of  y is 2\n",
      "the value of  y is 2\n",
      "the value of  y is 4\n",
      "the value of  y is 4\n"
     ]
    }
   ],
   "source": [
    "#trying all statement s at once\n",
    "x=[1,2,3,5,6,7]\n",
    "YY=0\n",
    "w=3\n",
    "for i in x:\n",
    "    while i % 2==0:\n",
    "        YY +=2\n",
    "        i +=1\n",
    "    else:\n",
    "        w= w-1\n",
    "    if YY > w:\n",
    "        print( f\"the value of  y is {YY}\" )\n",
    "    elif YY<w:\n",
    "        print(f\"the value of w is {w}\")"
   ]
  },
  {
   "cell_type": "code",
   "execution_count": 34,
   "id": "a43e26ec-6b1c-461e-bd96-24a63128c28f",
   "metadata": {},
   "outputs": [
    {
     "name": "stdout",
     "output_type": "stream",
     "text": [
      "end of script\n"
     ]
    }
   ],
   "source": [
    "# key words\n",
    "\"\"\"PASS \"\"\" #does nothing at all\n",
    "x=[1,2,3,4,5]\n",
    "for item in x:\n",
    "    #comment\n",
    "    pass #\n",
    "print ('end of script')"
   ]
  },
  {
   "cell_type": "code",
   "execution_count": 35,
   "id": "1dc3425d-6bb4-4505-b968-30b3aa307598",
   "metadata": {},
   "outputs": [
    {
     "name": "stdout",
     "output_type": "stream",
     "text": [
      "J\n",
      "m\n",
      "e\n",
      "s\n"
     ]
    }
   ],
   "source": [
    "\"\"\"continue\"\"\" # goes to the top of closest enclosing loop\n",
    "\n",
    "mystring=\"James\"\n",
    "\n",
    "for letter in mystring:\n",
    "    if letter ==\"a\":\n",
    "        continue\n",
    "    print(letter)\n",
    "    "
   ]
  },
  {
   "cell_type": "code",
   "execution_count": 36,
   "id": "7f54fae4-9b89-445b-b966-a1bad6672e0b",
   "metadata": {},
   "outputs": [
    {
     "name": "stdout",
     "output_type": "stream",
     "text": [
      "K\n",
      "i\n",
      "m\n"
     ]
    }
   ],
   "source": [
    "\"\"\"break\"\"\" # breaks out of the loop\n",
    "myString='Kimani'\n",
    "\n",
    "for letter in myString:\n",
    "    if letter =='a':\n",
    "        break\n",
    "    print(letter)"
   ]
  },
  {
   "cell_type": "code",
   "execution_count": 44,
   "id": "86f543b2-819a-4df2-927f-b38bd8a0a706",
   "metadata": {},
   "outputs": [
    {
     "name": "stdout",
     "output_type": "stream",
     "text": [
      "3\n",
      "4\n",
      "5\n"
     ]
    }
   ],
   "source": [
    "#using break in awhile loops most important\n",
    "x=0\n",
    "y=3\n",
    "while x<5:\n",
    "    if x == 3:\n",
    "        break\n",
    "    print(y+ x)\n",
    "    x+=1\n",
    "    "
   ]
  },
  {
   "cell_type": "code",
   "execution_count": null,
   "id": "582a824f-d09c-4e18-be09-9d161b42569d",
   "metadata": {},
   "outputs": [],
   "source": []
  }
 ],
 "metadata": {
  "kernelspec": {
   "display_name": "Python 3 (ipykernel)",
   "language": "python",
   "name": "python3"
  },
  "language_info": {
   "codemirror_mode": {
    "name": "ipython",
    "version": 3
   },
   "file_extension": ".py",
   "mimetype": "text/x-python",
   "name": "python",
   "nbconvert_exporter": "python",
   "pygments_lexer": "ipython3",
   "version": "3.12.1"
  }
 },
 "nbformat": 4,
 "nbformat_minor": 5
}
