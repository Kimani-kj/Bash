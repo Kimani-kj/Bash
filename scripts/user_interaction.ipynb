{
 "cells": [
  {
   "cell_type": "code",
   "execution_count": 2,
   "id": "fec2f798-a16c-4fd6-83e0-d8b31879427b",
   "metadata": {},
   "outputs": [
    {
     "name": "stdin",
     "output_type": "stream",
     "text": [
      "Please entr a value:  2\n"
     ]
    },
    {
     "data": {
      "text/plain": [
       "'2'"
      ]
     },
     "execution_count": 2,
     "metadata": {},
     "output_type": "execute_result"
    }
   ],
   "source": [
    "#accepting user input\n",
    "\n",
    "input(\"Please entr a value: \")"
   ]
  },
  {
   "cell_type": "code",
   "execution_count": 6,
   "id": "183564e9-df92-4d9f-97cb-b074ad398ce8",
   "metadata": {},
   "outputs": [
    {
     "name": "stdin",
     "output_type": "stream",
     "text": [
      "Please enter a value:  2\n"
     ]
    }
   ],
   "source": [
    "results=int(input (\"Please enter a value: \"))\n"
   ]
  },
  {
   "cell_type": "code",
   "execution_count": 7,
   "id": "36b8ef1f-0bf3-4a9a-84be-af80c835065f",
   "metadata": {},
   "outputs": [
    {
     "data": {
      "text/plain": [
       "int"
      ]
     },
     "execution_count": 7,
     "metadata": {},
     "output_type": "execute_result"
    }
   ],
   "source": [
    "type(results)"
   ]
  },
  {
   "cell_type": "code",
   "execution_count": 8,
   "id": "52c692ad-2e8f-4da8-a943-54039abca77d",
   "metadata": {},
   "outputs": [],
   "source": [
    "row1=[\"\",'','']"
   ]
  },
  {
   "cell_type": "code",
   "execution_count": 16,
   "id": "934fb3d0-e384-4bc1-b65e-b4e2af476451",
   "metadata": {},
   "outputs": [
    {
     "name": "stdin",
     "output_type": "stream",
     "text": [
      "please chooose an index 1\n"
     ]
    },
    {
     "name": "stdout",
     "output_type": "stream",
     "text": [
      "1\n"
     ]
    }
   ],
   "source": [
    "position_index=int(input(\"please chooose an index\"))\n",
    "print(position_index)"
   ]
  },
  {
   "cell_type": "code",
   "execution_count": 17,
   "id": "66204058-b869-41ea-984c-35a58c9acd8d",
   "metadata": {},
   "outputs": [
    {
     "name": "stdout",
     "output_type": "stream",
     "text": [
      "['', 4, 4]\n"
     ]
    }
   ],
   "source": [
    "row1[position_index]=4\n",
    "print(row1)"
   ]
  },
  {
   "cell_type": "code",
   "execution_count": 28,
   "id": "d086aa06-2eb6-4eb3-bc7f-ad3ab30fcb0b",
   "metadata": {},
   "outputs": [],
   "source": [
    "def input2():\n",
    "    position_index=int(input(\"please enter a postion index: \"))\n",
    "    print(type(position_index))\n",
    "    row1[position_index]=int(input(\"Enter a number: \"))\n",
    "    print(row1)"
   ]
  },
  {
   "cell_type": "code",
   "execution_count": 29,
   "id": "d70806e4-b438-4274-b944-f7c5dcac9fd0",
   "metadata": {},
   "outputs": [
    {
     "name": "stdin",
     "output_type": "stream",
     "text": [
      "please enter a postion index:  0\n"
     ]
    },
    {
     "name": "stdout",
     "output_type": "stream",
     "text": [
      "<class 'int'>\n"
     ]
    },
    {
     "name": "stdin",
     "output_type": "stream",
     "text": [
      "Enter a number:  2\n"
     ]
    },
    {
     "name": "stdout",
     "output_type": "stream",
     "text": [
      "[2, 4, 4]\n"
     ]
    }
   ],
   "source": [
    "input2()"
   ]
  },
  {
   "cell_type": "code",
   "execution_count": 55,
   "id": "bd1386e8-bb22-4563-a362-1026434ad88f",
   "metadata": {},
   "outputs": [],
   "source": [
    "\"\"\"validating user input\"\"\"\n",
    "def user_choice():\n",
    "    #Variables\n",
    "    \n",
    "    #intial\n",
    "    choice=\"wrong\"\n",
    "    acceptable_range = range(0,10)\n",
    "    within_range= False\n",
    "    #Two condition to check\n",
    "    #Digit of within_range=false\n",
    "    while choice.isdigit()== False or within_range==False: #this solve the problem so that the user input somethinng that is \n",
    "        choice=input(\"please enter a number (0-10): \")\n",
    "        #Digit Check\n",
    "        if choice.isdigit() == False:\n",
    "            print(\"sorry that is not a number\")\n",
    "        #Range Check\n",
    "        if choice.isdigit()==True:\n",
    "            if int(choice) in acceptable_range:\n",
    "                within_range= True\n",
    "            else:\n",
    "                print(\"Sorry you are out of the acceptable range\")\n",
    "                within_range= False\n",
    "    \n",
    "    return int(choice)             "
   ]
  },
  {
   "cell_type": "code",
   "execution_count": 56,
   "id": "014b5a16-daa4-41c2-ba7e-370ecaa8aacb",
   "metadata": {},
   "outputs": [
    {
     "name": "stdin",
     "output_type": "stream",
     "text": [
      "please enter a number (0-10):  two\n"
     ]
    },
    {
     "name": "stdout",
     "output_type": "stream",
     "text": [
      "sorry that is not a number\n"
     ]
    },
    {
     "name": "stdin",
     "output_type": "stream",
     "text": [
      "please enter a number (0-10):  34\n"
     ]
    },
    {
     "name": "stdout",
     "output_type": "stream",
     "text": [
      "Sorry you are out of the acceptable range\n"
     ]
    },
    {
     "name": "stdin",
     "output_type": "stream",
     "text": [
      "please enter a number (0-10):  45\n"
     ]
    },
    {
     "name": "stdout",
     "output_type": "stream",
     "text": [
      "Sorry you are out of the acceptable range\n"
     ]
    },
    {
     "name": "stdin",
     "output_type": "stream",
     "text": [
      "please enter a number (0-10):  4\n"
     ]
    },
    {
     "data": {
      "text/plain": [
       "4"
      ]
     },
     "execution_count": 56,
     "metadata": {},
     "output_type": "execute_result"
    }
   ],
   "source": [
    "user_choice()"
   ]
  },
  {
   "cell_type": "code",
   "execution_count": 32,
   "id": "d7829d85-8e30-4c5f-86b0-a6b97cd8e11d",
   "metadata": {},
   "outputs": [],
   "source": []
  },
  {
   "cell_type": "code",
   "execution_count": 33,
   "id": "e17df673-4bd3-4e3c-ad84-622cd85cd906",
   "metadata": {},
   "outputs": [
    {
     "data": {
      "text/plain": [
       "True"
      ]
     },
     "execution_count": 33,
     "metadata": {},
     "output_type": "execute_result"
    }
   ],
   "source": [
    "some_value.isdigit()"
   ]
  },
  {
   "cell_type": "code",
   "execution_count": 34,
   "id": "c123f08b-daef-4764-8874-12ef817c6db4",
   "metadata": {},
   "outputs": [
    {
     "data": {
      "text/plain": [
       "100"
      ]
     },
     "execution_count": 34,
     "metadata": {},
     "output_type": "execute_result"
    }
   ],
   "source": [
    "int(some_value)"
   ]
  },
  {
   "cell_type": "code",
   "execution_count": null,
   "id": "52855ace-5e15-44c9-83f4-56951c73b64f",
   "metadata": {},
   "outputs": [],
   "source": []
  }
 ],
 "metadata": {
  "kernelspec": {
   "display_name": "Python 3 (ipykernel)",
   "language": "python",
   "name": "python3"
  },
  "language_info": {
   "codemirror_mode": {
    "name": "ipython",
    "version": 3
   },
   "file_extension": ".py",
   "mimetype": "text/x-python",
   "name": "python",
   "nbconvert_exporter": "python",
   "pygments_lexer": "ipython3",
   "version": "3.12.1"
  }
 },
 "nbformat": 4,
 "nbformat_minor": 5
}
