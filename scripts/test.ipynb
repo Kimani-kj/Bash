{
 "cells": [
  {
   "cell_type": "code",
   "execution_count": 1,
   "id": "d91e88e1-7e3b-4381-88fb-c55f1d0a3b89",
   "metadata": {},
   "outputs": [
    {
     "name": "stdout",
     "output_type": "stream",
     "text": [
      "Starts\n",
      "s\n",
      "sentence\n"
     ]
    }
   ],
   "source": [
    "'''print words that start with s in a sentence'''\n",
    "#how to print a word that starts with a s \n",
    "st =\"print only the words that Starts with s in this sentence\"\n",
    "for word in st.split( ):\n",
    "    if word[0].lower()== 's':\n",
    "        print(word)"
   ]
  },
  {
   "cell_type": "code",
   "execution_count": 2,
   "id": "03e35e5f-7af7-4244-b9ae-d0501c90f06c",
   "metadata": {},
   "outputs": [
    {
     "name": "stdout",
     "output_type": "stream",
     "text": [
      "2\n",
      "4\n",
      "6\n",
      "8\n",
      "10\n"
     ]
    }
   ],
   "source": [
    "\"\"\" use range() to print all even numbers from 1 to 20 \"\"\"\n",
    "#printing even numbers\n",
    "for i in range(1,11):\n",
    "    if i %2==0:\n",
    "        print(i)\n",
    "\n"
   ]
  },
  {
   "cell_type": "code",
   "execution_count": 4,
   "id": "8035ea78-93e8-4667-af69-fdfd46c5ce7f",
   "metadata": {},
   "outputs": [
    {
     "name": "stdout",
     "output_type": "stream",
     "text": [
      "0\n",
      "2\n",
      "4\n",
      "6\n",
      "8\n",
      "10\n"
     ]
    },
    {
     "data": {
      "text/plain": [
       "[0, 2, 4, 6, 8, 10]"
      ]
     },
     "execution_count": 4,
     "metadata": {},
     "output_type": "execute_result"
    }
   ],
   "source": [
    "#another way\n",
    "for i in range(0,11,2):\n",
    "    print(i)\n",
    "\n",
    "list(range(0,11,2))\n"
   ]
  },
  {
   "cell_type": "code",
   "execution_count": 10,
   "id": "e4e68b38-35b3-4745-9d3f-835eed78e225",
   "metadata": {},
   "outputs": [
    {
     "data": {
      "text/plain": [
       "[3, 6, 9, 12, 15, 18, 21, 24, 27, 30, 33, 36, 39, 42, 45, 48]"
      ]
     },
     "execution_count": 10,
     "metadata": {},
     "output_type": "execute_result"
    }
   ],
   "source": [
    "\"\"\" use a list comprehension to create a list of all numbers between \n",
    "1 and 50 that are divisible by 3\"\"\"\n",
    "mylist=[i for i in range(1,50) if i%3==0]\n",
    "mylist"
   ]
  },
  {
   "cell_type": "code",
   "execution_count": 5,
   "id": "0ac4a5e4-910f-40ff-aaec-1c7a3dd8f4be",
   "metadata": {},
   "outputs": [
    {
     "name": "stdout",
     "output_type": "stream",
     "text": [
      "word has 4 letters thus even!\n",
      "in has 2 letters thus even!\n",
      "this has 4 letters thus even!\n",
      "sentence has 8 letters thus even!\n",
      "that has 4 letters thus even!\n",
      "an has 2 letters thus even!\n",
      "even has 4 letters thus even!\n",
      "number has 6 letters thus even!\n",
      "of has 2 letters thus even!\n"
     ]
    }
   ],
   "source": [
    "\"\"\"Go through the string below and if the length of words is even print 'even!' \"\"\"\n",
    "\n",
    "st = 'Print every word in this sentence that has an even number of letters'\n",
    "for i in st.split():\n",
    "    if len(i) %2==0:\n",
    "        print(f'{i} has {len(i)} letters thus even!')"
   ]
  },
  {
   "cell_type": "code",
   "execution_count": 5,
   "id": "be32a2bf-5ec0-4963-8753-a52f91b62fb2",
   "metadata": {},
   "outputs": [
    {
     "name": "stdout",
     "output_type": "stream",
     "text": [
      "1\n",
      "2\n",
      "Fizz\n",
      "4\n",
      "Buzz\n",
      "Fizz\n",
      "7\n",
      "8\n",
      "Fizz\n",
      "Buzz\n",
      "11\n",
      "Fizz\n",
      "13\n",
      "14\n",
      "BUzzFizz\n",
      "16\n",
      "17\n",
      "Fizz\n",
      "19\n",
      "Buzz\n",
      "Fizz\n",
      "22\n",
      "23\n",
      "Fizz\n",
      "Buzz\n",
      "26\n",
      "Fizz\n",
      "28\n",
      "29\n",
      "BUzzFizz\n",
      "31\n",
      "32\n",
      "Fizz\n",
      "34\n",
      "Buzz\n",
      "Fizz\n",
      "37\n",
      "38\n",
      "Fizz\n",
      "Buzz\n",
      "41\n",
      "Fizz\n",
      "43\n",
      "44\n",
      "BUzzFizz\n",
      "46\n",
      "47\n",
      "Fizz\n",
      "49\n",
      "Buzz\n",
      "Fizz\n",
      "52\n",
      "53\n",
      "Fizz\n",
      "Buzz\n",
      "56\n",
      "Fizz\n",
      "58\n",
      "59\n",
      "BUzzFizz\n",
      "61\n",
      "62\n",
      "Fizz\n",
      "64\n",
      "Buzz\n",
      "Fizz\n",
      "67\n",
      "68\n",
      "Fizz\n",
      "Buzz\n",
      "71\n",
      "Fizz\n",
      "73\n",
      "74\n",
      "BUzzFizz\n",
      "76\n",
      "77\n",
      "Fizz\n",
      "79\n",
      "Buzz\n",
      "Fizz\n",
      "82\n",
      "83\n",
      "Fizz\n",
      "Buzz\n",
      "86\n",
      "Fizz\n",
      "88\n",
      "89\n",
      "BUzzFizz\n",
      "91\n",
      "92\n",
      "Fizz\n",
      "94\n",
      "Buzz\n",
      "Fizz\n",
      "97\n",
      "98\n",
      "Fizz\n",
      "Buzz\n"
     ]
    }
   ],
   "source": [
    "\"\"\"Write a program that prints the integers from 1 to 100. But for multiples \n",
    "of three print \"Fizz\" instead of the number, and for the multiples of five \n",
    "print \"Buzz\". For numbers that are multiples of both three and five print \"FizzBuzz\".\"\"\"\n",
    "for i in range(1,101):\n",
    "    if i %3==0 and i %5==0:\n",
    "        print('BUzzFizz')\n",
    "    elif i%5==0:\n",
    "        print('Buzz')\n",
    "    elif i%3==0:\n",
    "        print('Fizz')\n",
    "    else:\n",
    "        print(i)\n",
    "\n"
   ]
  },
  {
   "cell_type": "code",
   "execution_count": 7,
   "id": "98ddd45e-773b-4397-b312-562ccf170cd0",
   "metadata": {},
   "outputs": [],
   "source": [
    "\"\"\"Use List Comprehension to create a list of the first \n",
    "letters of every word in the string below:\"\"\"\n",
    "\n",
    "st = 'Create a list of the first letters of every word in this string'\n",
    "\n",
    "\n",
    "mylist=[i[0] for i in st.split()]\n"
   ]
  },
  {
   "cell_type": "code",
   "execution_count": 8,
   "id": "c88fe90c-7aea-4f3d-9f75-5f32975b6cae",
   "metadata": {},
   "outputs": [
    {
     "data": {
      "text/plain": [
       "['C', 'a', 'l', 'o', 't', 'f', 'l', 'o', 'e', 'w', 'i', 't', 's']"
      ]
     },
     "execution_count": 8,
     "metadata": {},
     "output_type": "execute_result"
    }
   ],
   "source": [
    "mylist"
   ]
  },
  {
   "cell_type": "code",
   "execution_count": 23,
   "id": "fc7f89ca-6ab5-4a14-8b9f-4e75c010bf8f",
   "metadata": {},
   "outputs": [],
   "source": [
    "\"\"\"LESSER OF TWO EVENS: Write a function that returns the lesser of two given \n",
    "numbers if both numbers are even, but returns the greater if one or both numbers are odd\"\"\"\n",
    "def lesser(a,b):\n",
    "    s=''\n",
    "    if a%2==0 and b%2==0:\n",
    "        s += str(a if a<b else b) \n",
    "        print(s)\n",
    "    else:\n",
    "        s+=str(a if a>b else b)\n",
    "        print(s)\n",
    "\n",
    "        \n",
    "    "
   ]
  },
  {
   "cell_type": "code",
   "execution_count": 24,
   "id": "084ba3f3-826a-44f0-8929-1a0f56e6d867",
   "metadata": {},
   "outputs": [
    {
     "name": "stdout",
     "output_type": "stream",
     "text": [
      "5\n"
     ]
    }
   ],
   "source": [
    "lesser(2,5)"
   ]
  },
  {
   "cell_type": "code",
   "execution_count": 34,
   "id": "a7a9f0b0-9ec5-4443-89e8-3ba7e6087827",
   "metadata": {},
   "outputs": [],
   "source": [
    "\"\"\"ANIMAL CRACKERS: Write a function takes a two-word string and\n",
    "returns True if both words begin with same letter\"\"\"\n",
    "def animalCrackers(a,b):\n",
    "    string=a +\" \"+  b\n",
    "    if a[0].upper() == b[0].upper():\n",
    "        return True\n",
    "    else:\n",
    "        return False\n",
    "    "
   ]
  },
  {
   "cell_type": "code",
   "execution_count": 36,
   "id": "d09a7abc-0055-4146-8c65-390b843eeafd",
   "metadata": {},
   "outputs": [
    {
     "data": {
      "text/plain": [
       "True"
      ]
     },
     "execution_count": 36,
     "metadata": {},
     "output_type": "execute_result"
    }
   ],
   "source": [
    "animalCrackers(\"moat\",\"Matata\")"
   ]
  },
  {
   "cell_type": "code",
   "execution_count": null,
   "id": "080734cf-17cc-4d5a-b409-d8f588c1d0f8",
   "metadata": {},
   "outputs": [],
   "source": []
  }
 ],
 "metadata": {
  "kernelspec": {
   "display_name": "Python 3 (ipykernel)",
   "language": "python",
   "name": "python3"
  },
  "language_info": {
   "codemirror_mode": {
    "name": "ipython",
    "version": 3
   },
   "file_extension": ".py",
   "mimetype": "text/x-python",
   "name": "python",
   "nbconvert_exporter": "python",
   "pygments_lexer": "ipython3",
   "version": "3.12.1"
  }
 },
 "nbformat": 4,
 "nbformat_minor": 5
}
