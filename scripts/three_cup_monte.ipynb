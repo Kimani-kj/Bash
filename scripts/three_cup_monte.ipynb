{
 "cells": [
  {
   "cell_type": "code",
   "execution_count": 15,
   "id": "2b1d33e6-e1e6-4ed9-8549-4a8a3689f9d8",
   "metadata": {},
   "outputs": [],
   "source": [
    "mylist=[1,2,4,5]"
   ]
  },
  {
   "cell_type": "code",
   "execution_count": 4,
   "id": "4042475b-df3b-4274-94dd-b8183779eb72",
   "metadata": {},
   "outputs": [],
   "source": [
    "from random import shuffle"
   ]
  },
  {
   "cell_type": "code",
   "execution_count": 11,
   "id": "3c9311fb-9759-4aa1-ac23-f990e36a07c8",
   "metadata": {},
   "outputs": [
    {
     "data": {
      "text/plain": [
       "[4, 2, 5, 1]"
      ]
     },
     "execution_count": 11,
     "metadata": {},
     "output_type": "execute_result"
    }
   ],
   "source": [
    "shuffle(mylist)\n",
    "mylist"
   ]
  },
  {
   "cell_type": "code",
   "execution_count": 38,
   "id": "115b6840-0183-45be-8c27-3646c9a5080b",
   "metadata": {},
   "outputs": [],
   "source": [
    "def shuffle_list(mylist):\n",
    "    shuffle(mylist)\n",
    "    return mylist"
   ]
  },
  {
   "cell_type": "code",
   "execution_count": 22,
   "id": "cf86f5d1-bbfd-4784-a443-de46864221c1",
   "metadata": {},
   "outputs": [
    {
     "data": {
      "text/plain": [
       "[2, 4, 5, 1]"
      ]
     },
     "execution_count": 22,
     "metadata": {},
     "output_type": "execute_result"
    }
   ],
   "source": [
    "result=shuffle_list(mylist)\n",
    "result"
   ]
  },
  {
   "cell_type": "code",
   "execution_count": 23,
   "id": "1131a494-fe6f-42d4-a3f2-f9cc8436930c",
   "metadata": {},
   "outputs": [],
   "source": [
    "mylist=[' ','0',' ']"
   ]
  },
  {
   "cell_type": "code",
   "execution_count": 24,
   "id": "a9a431bc-909d-4f3e-8b4b-3088dcdef753",
   "metadata": {},
   "outputs": [
    {
     "data": {
      "text/plain": [
       "[' ', ' ', '0']"
      ]
     },
     "execution_count": 24,
     "metadata": {},
     "output_type": "execute_result"
    }
   ],
   "source": [
    "shuffle_list(mylist)"
   ]
  },
  {
   "cell_type": "code",
   "execution_count": 48,
   "id": "4d442bd0-e1cc-41d8-ad1f-36857bcf18d9",
   "metadata": {},
   "outputs": [],
   "source": [
    "def player_guess():\n",
    "    guess=''\n",
    "    while guess not in ['0','1','2']:\n",
    "        guess=input('pick a number 0,1,0r 2')\n",
    "    return int(guess)"
   ]
  },
  {
   "cell_type": "code",
   "execution_count": 49,
   "id": "cf3d264d-5865-4abd-825e-34b584bb10d9",
   "metadata": {},
   "outputs": [
    {
     "name": "stdin",
     "output_type": "stream",
     "text": [
      "pick a number 0,1,0r 2 1\n"
     ]
    }
   ],
   "source": [
    "myindex=player_guess()"
   ]
  },
  {
   "cell_type": "code",
   "execution_count": 50,
   "id": "46d48a51-1e0c-46e7-b5d2-cde9484c6446",
   "metadata": {},
   "outputs": [
    {
     "data": {
      "text/plain": [
       "1"
      ]
     },
     "execution_count": 50,
     "metadata": {},
     "output_type": "execute_result"
    }
   ],
   "source": [
    "myindex\n"
   ]
  },
  {
   "cell_type": "code",
   "execution_count": 53,
   "id": "1c3fe819-dead-4558-84bd-e5f2c50e6ac2",
   "metadata": {},
   "outputs": [],
   "source": [
    "def check_guess(mylist,guess):\n",
    "    if mylist[guess] =='0':\n",
    "        print('correct!')\n",
    "    else:\n",
    "        print('wrong quess!')\n",
    "        print(mylist)"
   ]
  },
  {
   "cell_type": "code",
   "execution_count": 60,
   "id": "ca50c435-0c93-44c0-a648-5d35df57511f",
   "metadata": {},
   "outputs": [
    {
     "name": "stdin",
     "output_type": "stream",
     "text": [
      "pick a number 0,1,0r 2 1\n"
     ]
    },
    {
     "name": "stdout",
     "output_type": "stream",
     "text": [
      "correct!\n"
     ]
    }
   ],
   "source": [
    "#INITIAL LIST\n",
    "mylist =['0',' ',' ']\n",
    "         \n",
    "#SHUFFLE LIST\n",
    "mixedup_list=shuffle_list(mylist)\n",
    "\n",
    "#USER GUESS\n",
    "guess=player_guess()\n",
    "\n",
    "#CHECK GUESS\n",
    "check_guess(mixedup_list,guess)\n"
   ]
  },
  {
   "cell_type": "code",
   "execution_count": null,
   "id": "fff6aa45-fb35-48f8-9519-a47580b731f5",
   "metadata": {},
   "outputs": [],
   "source": []
  }
 ],
 "metadata": {
  "kernelspec": {
   "display_name": "Python 3 (ipykernel)",
   "language": "python",
   "name": "python3"
  },
  "language_info": {
   "codemirror_mode": {
    "name": "ipython",
    "version": 3
   },
   "file_extension": ".py",
   "mimetype": "text/x-python",
   "name": "python",
   "nbconvert_exporter": "python",
   "pygments_lexer": "ipython3",
   "version": "3.12.1"
  }
 },
 "nbformat": 4,
 "nbformat_minor": 5
}
