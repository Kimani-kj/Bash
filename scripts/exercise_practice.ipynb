{
 "cells": [
  {
   "cell_type": "code",
   "execution_count": 6,
   "id": "f29f30d4-a546-436f-87c0-b14c00742e88",
   "metadata": {},
   "outputs": [],
   "source": [
    "''' Write a function that capitalizes the first and fourth\n",
    "letters of a name'''\n",
    "def capitalize(name):\n",
    "    name=name.capitalize()\n",
    "    x=name[0:3]\n",
    "    y=name[3:]\n",
    "    y=y.capitalize()\n",
    "    print(x + y)\n",
    "    \n"
   ]
  },
  {
   "cell_type": "code",
   "execution_count": 30,
   "id": "c22050b9-d3a7-43bf-9a39-b12c70e09bdd",
   "metadata": {},
   "outputs": [
    {
     "name": "stdout",
     "output_type": "stream",
     "text": [
      "BreNda\n"
     ]
    }
   ],
   "source": [
    "capitalize(\"brenda\")"
   ]
  },
  {
   "cell_type": "code",
   "execution_count": 40,
   "id": "96a7da72-fd9c-4c5e-bf32-4102dcbd6e75",
   "metadata": {},
   "outputs": [],
   "source": [
    "def capitall(name):\n",
    "    s=''\n",
    "    for i,j in enumerate(name):\n",
    "        if i == 0:\n",
    "            s+=j.upper()\n",
    "        elif i==3:\n",
    "            s+=j.capitalize()\n",
    "        else:\n",
    "            s+=j.lower()\n",
    "    print(s)\n",
    "        \n",
    "        "
   ]
  },
  {
   "cell_type": "code",
   "execution_count": 41,
   "id": "03b23d19-6ae0-4005-b81c-de07da3c9f92",
   "metadata": {},
   "outputs": [
    {
     "name": "stdout",
     "output_type": "stream",
     "text": [
      "BreNda\n"
     ]
    }
   ],
   "source": [
    "capitall(\"brenda\")"
   ]
  },
  {
   "cell_type": "code",
   "execution_count": 28,
   "id": "f33adeab-49d3-40f8-a52d-15f97afe3100",
   "metadata": {},
   "outputs": [],
   "source": [
    "#a alternative formula for the above task\n",
    "def capital(name):\n",
    "    s=''\n",
    "    for i in range(len(name)):\n",
    "        if i ==0:\n",
    "           s +=name[i].upper()\n",
    "        elif i ==3:\n",
    "            s+=name[i].upper()\n",
    "        else:\n",
    "            s +=name[i].lower()\n",
    "    return s\n",
    "            "
   ]
  },
  {
   "cell_type": "code",
   "execution_count": 29,
   "id": "f462400f-3919-4a7c-8c06-3c952054b6f2",
   "metadata": {},
   "outputs": [
    {
     "data": {
      "text/plain": [
       "'BreNda'"
      ]
     },
     "execution_count": 29,
     "metadata": {},
     "output_type": "execute_result"
    }
   ],
   "source": [
    "capital('brenda')"
   ]
  },
  {
   "cell_type": "code",
   "execution_count": 2,
   "id": "8ae21ad0-7a66-4d19-815a-4da2be218bd5",
   "metadata": {},
   "outputs": [],
   "source": [
    "''' Given a sentence, return a\n",
    "sentence with the words reversed'''\n",
    "def sentence_reverse():\n",
    "    y=input(\"enter sentense\")\n",
    "    y=y.split( )\n",
    "    print(y[::-1])\n",
    "    "
   ]
  },
  {
   "cell_type": "code",
   "execution_count": 3,
   "id": "ecd713ab-b177-40a0-810e-f45d0f535183",
   "metadata": {},
   "outputs": [
    {
     "name": "stdin",
     "output_type": "stream",
     "text": [
      "enter sentense james kimani kariuki\n"
     ]
    },
    {
     "name": "stdout",
     "output_type": "stream",
     "text": [
      "['kariuki', 'kimani', 'james']\n"
     ]
    }
   ],
   "source": [
    "sentence_reverse()"
   ]
  },
  {
   "cell_type": "code",
   "execution_count": 23,
   "id": "b8fbe137-45d7-445e-a412-e9a717375f3f",
   "metadata": {},
   "outputs": [],
   "source": [
    "def capital(string):\n",
    "    string=string.split()\n",
    "    print(string)\n",
    "    print(string[0])"
   ]
  },
  {
   "cell_type": "code",
   "execution_count": 24,
   "id": "58e5f15a-5289-4fc9-b689-3b2ce05246d6",
   "metadata": {},
   "outputs": [
    {
     "name": "stdout",
     "output_type": "stream",
     "text": [
      "['james']\n",
      "james\n"
     ]
    }
   ],
   "source": [
    "capital(\"james\")"
   ]
  },
  {
   "cell_type": "code",
   "execution_count": 58,
   "id": "3b8afd7f-5e5e-475e-ae98-d1e736156681",
   "metadata": {},
   "outputs": [],
   "source": [
    "\"\"\"Given a list of ints, return True if the array \n",
    "contains a num next to a similar num somewhere.\"\"\"\n",
    "def intList(*args):\n",
    "    s=(args)\n",
    "    for i in range(0,len(args)-1):\n",
    "        if args[i] == args[i+1]:\n",
    "            return True\n",
    "        else:\n",
    "            pass\n",
    "    return False\n",
    "    "
   ]
  },
  {
   "cell_type": "code",
   "execution_count": 59,
   "id": "9d7b78ac-b085-458f-ae10-93f3e8671220",
   "metadata": {},
   "outputs": [
    {
     "data": {
      "text/plain": [
       "True"
      ]
     },
     "execution_count": 59,
     "metadata": {},
     "output_type": "execute_result"
    }
   ],
   "source": [
    "intList(1,2, 3,4, 4, 5)"
   ]
  },
  {
   "cell_type": "code",
   "execution_count": 80,
   "id": "a9d785ca-5442-4a02-a6ad-af67b04abf55",
   "metadata": {},
   "outputs": [],
   "source": [
    "\"\"\"PAPER DOLL: Given a string, return a string where for every \n",
    "character in the original there are three characters\"\"\"\n",
    "def paperDoll(string):\n",
    "    s=''\n",
    "    for i in range(len(string)):\n",
    "        s+=string[i] * 3\n",
    "    print(s)\n",
    "        "
   ]
  },
  {
   "cell_type": "code",
   "execution_count": 81,
   "id": "98df88be-d5cb-43cf-bcc1-96002dab70cc",
   "metadata": {},
   "outputs": [
    {
     "name": "stdout",
     "output_type": "stream",
     "text": [
      "jjjaaammmeeesss\n"
     ]
    }
   ],
   "source": [
    "paperDoll(\"james\")"
   ]
  },
  {
   "cell_type": "code",
   "execution_count": 233,
   "id": "562e7f46-250d-4e43-be8c-5bab6c8a7131",
   "metadata": {},
   "outputs": [],
   "source": [
    "\"\"\"BLACKJACK: Given three integers between 1 and 11, if their sum is less than or equal to 21, return their sum.\n",
    "If their sum exceeds 21 and there's an eleven, reduce the total sum \n",
    "by 10. Finally, if the sum (even after adjustment) exceeds 21, return 'BUST'\"\"\"\n",
    "def blackJack(*nums):\n",
    "    s=nums\n",
    "    print(s)\n",
    "    f=sum(s)\n",
    "    print(f)\n",
    "    for i in range(len(s)):\n",
    "        if f <=21:\n",
    "            return f\n",
    "        else:\n",
    "            if f > 21 and nums[i] == 11:\n",
    "                g= f - 10\n",
    "                if g < 21:\n",
    "                    return g\n",
    "                elif g>21:\n",
    "                    return \"BUST\"\n",
    "             \n",
    "                    \n",
    "            \n",
    "        \n",
    "            \n",
    "         \n",
    "    \n",
    "        \n",
    "    "
   ]
  },
  {
   "cell_type": "code",
   "execution_count": 235,
   "id": "7e389b85-f875-4f8f-af4b-b8028d8dd3bc",
   "metadata": {},
   "outputs": [
    {
     "name": "stdout",
     "output_type": "stream",
     "text": [
      "(12, 12, 17)\n",
      "41\n"
     ]
    }
   ],
   "source": [
    "blackJack(12,12,17)\n"
   ]
  },
  {
   "cell_type": "code",
   "execution_count": 3,
   "id": "c4c5a3dd-c2ac-43d0-a1d1-2f0716e2384a",
   "metadata": {},
   "outputs": [],
   "source": [
    "\"\"\"SPY GAME: Write a function that takes in a list of\n",
    "integers and returns True if it contains 007 in order\"\"\"\n",
    "def spyGame(*args):\n",
    "    for i in range(len(args)):\n",
    "        if args[i] == 0 and args[i+1]==0 and args[i+2]==7:\n",
    "            return True\n",
    "        else:\n",
    "            pass\n",
    "    return False\n",
    "        \n",
    "    "
   ]
  },
  {
   "cell_type": "code",
   "execution_count": 5,
   "id": "e2e6cfdf-a085-4356-be27-3554618eda8f",
   "metadata": {},
   "outputs": [
    {
     "data": {
      "text/plain": [
       "True"
      ]
     },
     "execution_count": 5,
     "metadata": {},
     "output_type": "execute_result"
    }
   ],
   "source": [
    "spyGame(1,3,4,5,6,0,0,7)"
   ]
  },
  {
   "cell_type": "code",
   "execution_count": null,
   "id": "63fa1b57-e620-4f20-ade0-1dd8d39771dd",
   "metadata": {},
   "outputs": [],
   "source": [
    " \"\"\"Write a function that returns the number of prime \n",
    "numbers that exist up to and including a given number\"\"\"\n"
   ]
  }
 ],
 "metadata": {
  "kernelspec": {
   "display_name": "Python 3 (ipykernel)",
   "language": "python",
   "name": "python3"
  },
  "language_info": {
   "codemirror_mode": {
    "name": "ipython",
    "version": 3
   },
   "file_extension": ".py",
   "mimetype": "text/x-python",
   "name": "python",
   "nbconvert_exporter": "python",
   "pygments_lexer": "ipython3",
   "version": "3.12.1"
  }
 },
 "nbformat": 4,
 "nbformat_minor": 5
}
