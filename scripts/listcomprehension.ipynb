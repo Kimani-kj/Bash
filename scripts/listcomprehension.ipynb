{
 "cells": [
  {
   "cell_type": "code",
   "execution_count": 2,
   "id": "61a3d0f6-9ea1-4adc-9341-30e712d8d05c",
   "metadata": {},
   "outputs": [
    {
     "name": "stdout",
     "output_type": "stream",
     "text": [
      "['h', 'e', 'l', 'l', 'o']\n"
     ]
    }
   ],
   "source": [
    "#common way of doing it\n",
    "mystring='hello'\n",
    "mylist=[]\n",
    "for letter in mystring:\n",
    "    mylist.append(letter)\n",
    "print(mylist)"
   ]
  },
  {
   "cell_type": "code",
   "execution_count": 4,
   "id": "40267423-5bab-4212-87cd-67a978cf1845",
   "metadata": {},
   "outputs": [
    {
     "name": "stdout",
     "output_type": "stream",
     "text": [
      "['k', 'i', 'm', 'a', 'n', 'i']\n"
     ]
    }
   ],
   "source": [
    "#more efficient in terms of code\n",
    "mystring=\"kimani\"\n",
    "#mylist=[element for element in ...]\n",
    "mylist=[x for x in mystring]\n",
    "print(mylist)"
   ]
  },
  {
   "cell_type": "code",
   "execution_count": 7,
   "id": "0b87fab4-39f4-41a3-bc50-32c04f772a01",
   "metadata": {},
   "outputs": [
    {
     "name": "stdout",
     "output_type": "stream",
     "text": [
      "[100, 144, 196, 256, 324, 400, 484, 576, 676, 784]\n"
     ]
    }
   ],
   "source": [
    "mylist=[num**2 for num in range(10,30) if num%2==0]\n",
    "print(mylist)"
   ]
  },
  {
   "cell_type": "code",
   "execution_count": 47,
   "id": "e2c88a77-31f0-4ff1-82d3-ea0ab7c129ab",
   "metadata": {},
   "outputs": [],
   "source": [
    "celcius =[0,10,20,37,47]\n",
    "\n",
    "farheint=[round(((9/5)*temp +32), ndigits=4)  for temp in celcius]"
   ]
  },
  {
   "cell_type": "code",
   "execution_count": 48,
   "id": "1850fbab-3d81-47c8-86c1-07e8af65042a",
   "metadata": {},
   "outputs": [
    {
     "data": {
      "text/plain": [
       "[32.0, 50.0, 68.0, 98.6, 116.6]"
      ]
     },
     "execution_count": 48,
     "metadata": {},
     "output_type": "execute_result"
    }
   ],
   "source": [
    "farheint"
   ]
  },
  {
   "cell_type": "code",
   "execution_count": 51,
   "id": "6c77e103-e556-4202-8782-6c0facdb397a",
   "metadata": {},
   "outputs": [
    {
     "data": {
      "text/plain": [
       "[0, 'ODD', 2, 'ODD', 4, 'ODD', 6, 'ODD', 8, 'ODD', 10]"
      ]
     },
     "execution_count": 51,
     "metadata": {},
     "output_type": "execute_result"
    }
   ],
   "source": [
    "#if else statements in list comprehension\n",
    "results=[x if x%2==0 else 'ODD' for x in range(0,11)]\n",
    "results"
   ]
  },
  {
   "cell_type": "code",
   "execution_count": 2,
   "id": "34f82cc4-d528-4938-83c8-2356e3a9ef50",
   "metadata": {},
   "outputs": [
    {
     "data": {
      "text/plain": [
       "[2, 20, 200, 4, 40, 400, 6, 60, 600]"
      ]
     },
     "execution_count": 2,
     "metadata": {},
     "output_type": "execute_result"
    }
   ],
   "source": [
    "#nested loops\n",
    "mylist=[]\n",
    "for x in [2,4,6]:\n",
    "    for y in [1,10,100]:\n",
    "        mylist.append(x*y)\n",
    "\n",
    "mylist"
   ]
  },
  {
   "cell_type": "code",
   "execution_count": 4,
   "id": "2b4e4e18-6b83-4847-a9fd-5bdb0e3685b5",
   "metadata": {},
   "outputs": [
    {
     "data": {
      "text/plain": [
       "2"
      ]
     },
     "execution_count": 4,
     "metadata": {},
     "output_type": "execute_result"
    }
   ],
   "source": [
    "min(mylist)"
   ]
  },
  {
   "cell_type": "code",
   "execution_count": null,
   "id": "b82a0b6f-8d25-40dc-acf0-1894ebc287f2",
   "metadata": {},
   "outputs": [],
   "source": []
  }
 ],
 "metadata": {
  "kernelspec": {
   "display_name": "Python 3 (ipykernel)",
   "language": "python",
   "name": "python3"
  },
  "language_info": {
   "codemirror_mode": {
    "name": "ipython",
    "version": 3
   },
   "file_extension": ".py",
   "mimetype": "text/x-python",
   "name": "python",
   "nbconvert_exporter": "python",
   "pygments_lexer": "ipython3",
   "version": "3.12.1"
  }
 },
 "nbformat": 4,
 "nbformat_minor": 5
}
