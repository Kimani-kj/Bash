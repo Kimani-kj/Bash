{
 "cells": [
  {
   "cell_type": "code",
   "execution_count": 4,
   "id": "db5026fb-45ef-4ac8-9c30-d1b59fffee17",
   "metadata": {},
   "outputs": [],
   "source": [
    "def myfunc(a,b):\n",
    "    return sum ((a,b))*0.05"
   ]
  },
  {
   "cell_type": "code",
   "execution_count": 3,
   "id": "34f75202-3dbb-4ebe-ab2f-c39adf38f018",
   "metadata": {},
   "outputs": [
    {
     "data": {
      "text/plain": [
       "4.0"
      ]
     },
     "execution_count": 3,
     "metadata": {},
     "output_type": "execute_result"
    }
   ],
   "source": [
    "myfunc(4,4)"
   ]
  },
  {
   "cell_type": "code",
   "execution_count": 10,
   "id": "6446a5b2-7870-4167-a626-ed2875221954",
   "metadata": {},
   "outputs": [],
   "source": [
    "#args and  Kwargs\n",
    "def myfunc(*args):\n",
    "    print(args) #pritnts a tuple\n",
    "    for items in args:\n",
    "        print(items)"
   ]
  },
  {
   "cell_type": "code",
   "execution_count": 11,
   "id": "2913f34f-f2f7-4c6a-b68b-17c16d0bcb01",
   "metadata": {},
   "outputs": [
    {
     "name": "stdout",
     "output_type": "stream",
     "text": [
      "(23, 45, 45, 66, 78, 98)\n",
      "23\n",
      "45\n",
      "45\n",
      "66\n",
      "78\n",
      "98\n"
     ]
    }
   ],
   "source": [
    "myfunc(23,45,45,66,78,98)"
   ]
  },
  {
   "cell_type": "code",
   "execution_count": 40,
   "id": "531087e8-bc66-4ccd-8718-1580d3323a9c",
   "metadata": {},
   "outputs": [],
   "source": [
    "def myFunc(**kwargs):\n",
    "    print(kwargs)\n",
    "    print(kwargs.keys())\n",
    "    print(kwargs.values())"
   ]
  },
  {
   "cell_type": "code",
   "execution_count": 41,
   "id": "d5c5acb2-3f1a-498b-82a7-d1eac3f6cc26",
   "metadata": {},
   "outputs": [
    {
     "name": "stdout",
     "output_type": "stream",
     "text": [
      "{'fruit': 'tomatoe', 'drinks': 'mangoe juice'}\n",
      "dict_keys(['fruit', 'drinks'])\n",
      "dict_values(['tomatoe', 'mangoe juice'])\n"
     ]
    }
   ],
   "source": [
    "myFunc(fruit=\"tomatoe\",drinks=\"mangoe juice\")"
   ]
  },
  {
   "cell_type": "code",
   "execution_count": 124,
   "id": "bd60c041-0820-40b6-af2e-962b693f2ed1",
   "metadata": {},
   "outputs": [],
   "source": [
    "def myFunc(name):\n",
    "    for i in name:\n",
    "        name=name[::2].upper()\n",
    "        print(name)"
   ]
  },
  {
   "cell_type": "code",
   "execution_count": 125,
   "id": "84336f61-7f6b-4eff-a3aa-7d36de2ef37b",
   "metadata": {},
   "outputs": [
    {
     "name": "stdout",
     "output_type": "stream",
     "text": [
      "JMS\n",
      "JS\n",
      "J\n",
      "J\n",
      "J\n"
     ]
    }
   ],
   "source": [
    "myFunc(\"james\")"
   ]
  },
  {
   "cell_type": "code",
   "execution_count": 150,
   "id": "b211b577-3b00-4c48-a449-e43bad1fa85b",
   "metadata": {},
   "outputs": [],
   "source": [
    "x=\"name\""
   ]
  },
  {
   "cell_type": "code",
   "execution_count": 151,
   "id": "0632e500-1a3b-4f0d-b000-e4eb26b14e31",
   "metadata": {},
   "outputs": [
    {
     "name": "stdout",
     "output_type": "stream",
     "text": [
      "['name']\n"
     ]
    }
   ],
   "source": [
    "x=x.split()\n",
    "print(x)"
   ]
  },
  {
   "cell_type": "code",
   "execution_count": 158,
   "id": "231fd69b-7f53-4f11-8b50-8848fdaa2074",
   "metadata": {},
   "outputs": [],
   "source": [
    "\"\"\"a code to alternate between lower and upper case in a string\"\"\"\n",
    "def myFunc(name):\n",
    "    s=\"\"\n",
    "    for i in range(len(name)):\n",
    "        if i%2==0:\n",
    "            s+=name[i].lower()\n",
    "        else:\n",
    "            s+=name[i].upper()\n",
    "    print(s)"
   ]
  },
  {
   "cell_type": "code",
   "execution_count": 159,
   "id": "f6d8587b-87db-4cde-ad66-f5c9d136ed2a",
   "metadata": {},
   "outputs": [
    {
     "name": "stdout",
     "output_type": "stream",
     "text": [
      "iSaYa\n"
     ]
    }
   ],
   "source": [
    "myFunc(\"isAYA\")"
   ]
  },
  {
   "cell_type": "code",
   "execution_count": 25,
   "id": "0c98c47f-4a1b-41ac-8f70-72365a40eda6",
   "metadata": {},
   "outputs": [],
   "source": [
    "def UpperLower(name):\n",
    "    s=\"\"\n",
    "    for i,j in enumerate(name):\n",
    "        if i %2==0:\n",
    "            s+=j.upper()\n",
    "        else:\n",
    "            s +=j.lower()\n",
    "    print(s)\n",
    "        "
   ]
  },
  {
   "cell_type": "code",
   "execution_count": 26,
   "id": "a304416b-2b03-4aee-8c45-6b1100fceddd",
   "metadata": {},
   "outputs": [
    {
     "name": "stdout",
     "output_type": "stream",
     "text": [
      "KiMaNi\n"
     ]
    }
   ],
   "source": [
    "UpperLower(\"kimani\")"
   ]
  },
  {
   "cell_type": "code",
   "execution_count": null,
   "id": "3725f0b8-66a3-4da1-860b-91d5e7689c03",
   "metadata": {},
   "outputs": [],
   "source": []
  }
 ],
 "metadata": {
  "kernelspec": {
   "display_name": "Python 3 (ipykernel)",
   "language": "python",
   "name": "python3"
  },
  "language_info": {
   "codemirror_mode": {
    "name": "ipython",
    "version": 3
   },
   "file_extension": ".py",
   "mimetype": "text/x-python",
   "name": "python",
   "nbconvert_exporter": "python",
   "pygments_lexer": "ipython3",
   "version": "3.12.1"
  }
 },
 "nbformat": 4,
 "nbformat_minor": 5
}
